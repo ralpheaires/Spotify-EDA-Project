{
 "cells": [
  {
   "cell_type": "raw",
   "id": "ffc4e793",
   "metadata": {},
   "source": []
  },
  {
   "cell_type": "markdown",
   "id": "273a918c",
   "metadata": {},
   "source": [
    "Top 5 most popular artists\n",
    "Top 5 loudest tracks\n",
    "Artist with the most danceability song\n",
    "To 10 instrumentalness tracks\n",
    "Multiple feature plots\n",
    "tempo\n",
    "loudness\n",
    "acousticness\n",
    "danceability\n",
    "duration_ms\n",
    "energy\n",
    "instrumentalness\n",
    "liveness"
   ]
  },
  {
   "cell_type": "code",
   "execution_count": null,
   "id": "ce29b199",
   "metadata": {},
   "outputs": [],
   "source": []
  }
 ],
 "metadata": {
  "kernelspec": {
   "display_name": "Python 3 (ipykernel)",
   "language": "python",
   "name": "python3"
  },
  "language_info": {
   "codemirror_mode": {
    "name": "ipython",
    "version": 3
   },
   "file_extension": ".py",
   "mimetype": "text/x-python",
   "name": "python",
   "nbconvert_exporter": "python",
   "pygments_lexer": "ipython3",
   "version": "3.9.13"
  }
 },
 "nbformat": 4,
 "nbformat_minor": 5
}
